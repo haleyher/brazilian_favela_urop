{
 "cells": [
  {
   "cell_type": "code",
   "execution_count": 4,
   "metadata": {},
   "outputs": [
    {
     "name": "stdout",
     "output_type": "stream",
     "text": [
      "Loaded session from /Users/honiluna/.config/instaloader/session-grogley_.\n"
     ]
    },
    {
     "name": "stderr",
     "output_type": "stream",
     "text": [
      "JSON Query to api/v1/tags/web_info/: 403 Forbidden - \"fail\" status, message \"login_required\" when accessing https://i.instagram.com/api/v1/tags/web_info/?__a=1&__d=dis&tag_name=deslizamento [retrying; skip with ^C]\n",
      "JSON Query to api/v1/tags/web_info/: 403 Forbidden - \"fail\" status, message \"login_required\" when accessing https://i.instagram.com/api/v1/tags/web_info/?__a=1&__d=dis&tag_name=deslizamento [retrying; skip with ^C]\n"
     ]
    },
    {
     "ename": "ConnectionException",
     "evalue": "JSON Query to api/v1/tags/web_info/: 403 Forbidden - \"fail\" status, message \"login_required\" when accessing https://i.instagram.com/api/v1/tags/web_info/?__a=1&__d=dis&tag_name=deslizamento",
     "output_type": "error",
     "traceback": [
      "\u001b[0;31m---------------------------------------------------------------------------\u001b[0m",
      "\u001b[0;31mConnectionException\u001b[0m                       Traceback (most recent call last)",
      "File \u001b[0;32m~/Library/Caches/pypoetry/virtualenvs/brazilian-favela-urop-AQHwoFdT-py3.11/lib/python3.11/site-packages/instaloader/instaloadercontext.py:456\u001b[0m, in \u001b[0;36mInstaloaderContext.get_json\u001b[0;34m(self, path, params, host, session, _attempt, response_headers, use_post)\u001b[0m\n\u001b[1;32m    455\u001b[0m \u001b[39mif\u001b[39;00m resp\u001b[39m.\u001b[39mstatus_code \u001b[39m!=\u001b[39m \u001b[39m200\u001b[39m:\n\u001b[0;32m--> 456\u001b[0m     \u001b[39mraise\u001b[39;00m ConnectionException(\u001b[39mself\u001b[39m\u001b[39m.\u001b[39m_response_error(resp))\n\u001b[1;32m    457\u001b[0m \u001b[39melse\u001b[39;00m:\n",
      "\u001b[0;31mConnectionException\u001b[0m: 403 Forbidden - \"fail\" status, message \"login_required\" when accessing https://i.instagram.com/api/v1/tags/web_info/?__a=1&__d=dis&tag_name=deslizamento",
      "\nDuring handling of the above exception, another exception occurred:\n",
      "\u001b[0;31mConnectionException\u001b[0m                       Traceback (most recent call last)",
      "File \u001b[0;32m~/Library/Caches/pypoetry/virtualenvs/brazilian-favela-urop-AQHwoFdT-py3.11/lib/python3.11/site-packages/instaloader/instaloadercontext.py:456\u001b[0m, in \u001b[0;36mInstaloaderContext.get_json\u001b[0;34m(self, path, params, host, session, _attempt, response_headers, use_post)\u001b[0m\n\u001b[1;32m    455\u001b[0m \u001b[39mif\u001b[39;00m resp\u001b[39m.\u001b[39mstatus_code \u001b[39m!=\u001b[39m \u001b[39m200\u001b[39m:\n\u001b[0;32m--> 456\u001b[0m     \u001b[39mraise\u001b[39;00m ConnectionException(\u001b[39mself\u001b[39m\u001b[39m.\u001b[39m_response_error(resp))\n\u001b[1;32m    457\u001b[0m \u001b[39melse\u001b[39;00m:\n",
      "\u001b[0;31mConnectionException\u001b[0m: 403 Forbidden - \"fail\" status, message \"login_required\" when accessing https://i.instagram.com/api/v1/tags/web_info/?__a=1&__d=dis&tag_name=deslizamento",
      "\nDuring handling of the above exception, another exception occurred:\n",
      "\u001b[0;31mConnectionException\u001b[0m                       Traceback (most recent call last)",
      "File \u001b[0;32m~/Library/Caches/pypoetry/virtualenvs/brazilian-favela-urop-AQHwoFdT-py3.11/lib/python3.11/site-packages/instaloader/instaloadercontext.py:456\u001b[0m, in \u001b[0;36mInstaloaderContext.get_json\u001b[0;34m(self, path, params, host, session, _attempt, response_headers, use_post)\u001b[0m\n\u001b[1;32m    455\u001b[0m \u001b[39mif\u001b[39;00m resp\u001b[39m.\u001b[39mstatus_code \u001b[39m!=\u001b[39m \u001b[39m200\u001b[39m:\n\u001b[0;32m--> 456\u001b[0m     \u001b[39mraise\u001b[39;00m ConnectionException(\u001b[39mself\u001b[39m\u001b[39m.\u001b[39m_response_error(resp))\n\u001b[1;32m    457\u001b[0m \u001b[39melse\u001b[39;00m:\n",
      "\u001b[0;31mConnectionException\u001b[0m: 403 Forbidden - \"fail\" status, message \"login_required\" when accessing https://i.instagram.com/api/v1/tags/web_info/?__a=1&__d=dis&tag_name=deslizamento",
      "\nThe above exception was the direct cause of the following exception:\n",
      "\u001b[0;31mConnectionException\u001b[0m                       Traceback (most recent call last)",
      "Cell \u001b[0;32mIn[4], line 23\u001b[0m\n\u001b[1;32m     20\u001b[0m writer\u001b[39m.\u001b[39mwriterow([\u001b[39m\"\u001b[39m\u001b[39mpost_url\u001b[39m\u001b[39m\"\u001b[39m, \u001b[39m\"\u001b[39m\u001b[39musername\u001b[39m\u001b[39m\"\u001b[39m, \u001b[39m\"\u001b[39m\u001b[39mdate\u001b[39m\u001b[39m\"\u001b[39m, \u001b[39m\"\u001b[39m\u001b[39mcaption\u001b[39m\u001b[39m\"\u001b[39m])\n\u001b[1;32m     22\u001b[0m \u001b[39m# 5️⃣ Iterate over posts\u001b[39;00m\n\u001b[0;32m---> 23\u001b[0m \u001b[39mfor\u001b[39;00m post \u001b[39min\u001b[39;00m instaloader\u001b[39m.\u001b[39;49mHashtag\u001b[39m.\u001b[39;49mfrom_name(L\u001b[39m.\u001b[39;49mcontext, HASHTAG)\u001b[39m.\u001b[39mget_posts():\n\u001b[1;32m     24\u001b[0m     post_date \u001b[39m=\u001b[39m post\u001b[39m.\u001b[39mdate_utc\n\u001b[1;32m     25\u001b[0m     \u001b[39mif\u001b[39;00m START_DATE \u001b[39m<\u001b[39m\u001b[39m=\u001b[39m post_date \u001b[39m<\u001b[39m\u001b[39m=\u001b[39m END_DATE:\n",
      "File \u001b[0;32m~/Library/Caches/pypoetry/virtualenvs/brazilian-favela-urop-AQHwoFdT-py3.11/lib/python3.11/site-packages/instaloader/structures.py:1856\u001b[0m, in \u001b[0;36mHashtag.from_name\u001b[0;34m(cls, context, name)\u001b[0m\n\u001b[1;32m   1854\u001b[0m \u001b[39m# pylint:disable=protected-access\u001b[39;00m\n\u001b[1;32m   1855\u001b[0m hashtag \u001b[39m=\u001b[39m \u001b[39mcls\u001b[39m(context, {\u001b[39m'\u001b[39m\u001b[39mname\u001b[39m\u001b[39m'\u001b[39m: name\u001b[39m.\u001b[39mlower()})\n\u001b[0;32m-> 1856\u001b[0m hashtag\u001b[39m.\u001b[39;49m_obtain_metadata()\n\u001b[1;32m   1857\u001b[0m \u001b[39mreturn\u001b[39;00m hashtag\n",
      "File \u001b[0;32m~/Library/Caches/pypoetry/virtualenvs/brazilian-favela-urop-AQHwoFdT-py3.11/lib/python3.11/site-packages/instaloader/structures.py:1872\u001b[0m, in \u001b[0;36mHashtag._obtain_metadata\u001b[0;34m(self)\u001b[0m\n\u001b[1;32m   1870\u001b[0m \u001b[39mdef\u001b[39;00m\u001b[39m \u001b[39m\u001b[39m_obtain_metadata\u001b[39m(\u001b[39mself\u001b[39m):\n\u001b[1;32m   1871\u001b[0m     \u001b[39mif\u001b[39;00m \u001b[39mnot\u001b[39;00m \u001b[39mself\u001b[39m\u001b[39m.\u001b[39m_has_full_metadata:\n\u001b[0;32m-> 1872\u001b[0m         \u001b[39mself\u001b[39m\u001b[39m.\u001b[39m_node \u001b[39m=\u001b[39m \u001b[39mself\u001b[39;49m\u001b[39m.\u001b[39;49m_query({\u001b[39m\"\u001b[39;49m\u001b[39m__a\u001b[39;49m\u001b[39m\"\u001b[39;49m: \u001b[39m1\u001b[39;49m, \u001b[39m\"\u001b[39;49m\u001b[39m__d\u001b[39;49m\u001b[39m\"\u001b[39;49m: \u001b[39m\"\u001b[39;49m\u001b[39mdis\u001b[39;49m\u001b[39m\"\u001b[39;49m})\n\u001b[1;32m   1873\u001b[0m         \u001b[39mself\u001b[39m\u001b[39m.\u001b[39m_has_full_metadata \u001b[39m=\u001b[39m \u001b[39mTrue\u001b[39;00m\n",
      "File \u001b[0;32m~/Library/Caches/pypoetry/virtualenvs/brazilian-favela-urop-AQHwoFdT-py3.11/lib/python3.11/site-packages/instaloader/structures.py:1865\u001b[0m, in \u001b[0;36mHashtag._query\u001b[0;34m(self, params)\u001b[0m\n\u001b[1;32m   1864\u001b[0m \u001b[39mdef\u001b[39;00m\u001b[39m \u001b[39m\u001b[39m_query\u001b[39m(\u001b[39mself\u001b[39m, params):\n\u001b[0;32m-> 1865\u001b[0m     json_response \u001b[39m=\u001b[39m \u001b[39mself\u001b[39;49m\u001b[39m.\u001b[39;49m_context\u001b[39m.\u001b[39;49mget_iphone_json(\n\u001b[1;32m   1866\u001b[0m         \u001b[39m\"\u001b[39;49m\u001b[39mapi/v1/tags/web_info/\u001b[39;49m\u001b[39m\"\u001b[39;49m, {\u001b[39m*\u001b[39;49m\u001b[39m*\u001b[39;49mparams, \u001b[39m\"\u001b[39;49m\u001b[39mtag_name\u001b[39;49m\u001b[39m\"\u001b[39;49m: \u001b[39mself\u001b[39;49m\u001b[39m.\u001b[39;49mname}\n\u001b[1;32m   1867\u001b[0m     )\n\u001b[1;32m   1868\u001b[0m     \u001b[39mreturn\u001b[39;00m json_response[\u001b[39m\"\u001b[39m\u001b[39mgraphql\u001b[39m\u001b[39m\"\u001b[39m][\u001b[39m\"\u001b[39m\u001b[39mhashtag\u001b[39m\u001b[39m\"\u001b[39m] \u001b[39mif\u001b[39;00m \u001b[39m\"\u001b[39m\u001b[39mgraphql\u001b[39m\u001b[39m\"\u001b[39m \u001b[39min\u001b[39;00m json_response \u001b[39melse\u001b[39;00m json_response[\u001b[39m\"\u001b[39m\u001b[39mdata\u001b[39m\u001b[39m\"\u001b[39m]\n",
      "File \u001b[0;32m~/Library/Caches/pypoetry/virtualenvs/brazilian-favela-urop-AQHwoFdT-py3.11/lib/python3.11/site-packages/instaloader/instaloadercontext.py:642\u001b[0m, in \u001b[0;36mInstaloaderContext.get_iphone_json\u001b[0;34m(self, path, params)\u001b[0m\n\u001b[1;32m    639\u001b[0m     tempsession\u001b[39m.\u001b[39mcookies\u001b[39m.\u001b[39mclear()\n\u001b[1;32m    641\u001b[0m response_headers \u001b[39m=\u001b[39m \u001b[39mdict\u001b[39m()    \u001b[39m# type: Dict[str, Any]\u001b[39;00m\n\u001b[0;32m--> 642\u001b[0m response \u001b[39m=\u001b[39m \u001b[39mself\u001b[39;49m\u001b[39m.\u001b[39;49mget_json(path, params, \u001b[39m'\u001b[39;49m\u001b[39mi.instagram.com\u001b[39;49m\u001b[39m'\u001b[39;49m, tempsession, response_headers\u001b[39m=\u001b[39;49mresponse_headers)\n\u001b[1;32m    644\u001b[0m \u001b[39m# Extract the ig-set-* headers and use them in the next request\u001b[39;00m\n\u001b[1;32m    645\u001b[0m \u001b[39mfor\u001b[39;00m key, value \u001b[39min\u001b[39;00m response_headers\u001b[39m.\u001b[39mitems():\n",
      "File \u001b[0;32m~/Library/Caches/pypoetry/virtualenvs/brazilian-favela-urop-AQHwoFdT-py3.11/lib/python3.11/site-packages/instaloader/instaloadercontext.py:480\u001b[0m, in \u001b[0;36mInstaloaderContext.get_json\u001b[0;34m(self, path, params, host, session, _attempt, response_headers, use_post)\u001b[0m\n\u001b[1;32m    478\u001b[0m         \u001b[39mif\u001b[39;00m is_other_query:\n\u001b[1;32m    479\u001b[0m             \u001b[39mself\u001b[39m\u001b[39m.\u001b[39m_rate_controller\u001b[39m.\u001b[39mhandle_429(\u001b[39m'\u001b[39m\u001b[39mother\u001b[39m\u001b[39m'\u001b[39m)\n\u001b[0;32m--> 480\u001b[0m     \u001b[39mreturn\u001b[39;00m \u001b[39mself\u001b[39;49m\u001b[39m.\u001b[39;49mget_json(path\u001b[39m=\u001b[39;49mpath, params\u001b[39m=\u001b[39;49mparams, host\u001b[39m=\u001b[39;49mhost, session\u001b[39m=\u001b[39;49msess, _attempt\u001b[39m=\u001b[39;49m_attempt \u001b[39m+\u001b[39;49m \u001b[39m1\u001b[39;49m,\n\u001b[1;32m    481\u001b[0m                          response_headers\u001b[39m=\u001b[39;49mresponse_headers)\n\u001b[1;32m    482\u001b[0m \u001b[39mexcept\u001b[39;00m \u001b[39mKeyboardInterrupt\u001b[39;00m:\n\u001b[1;32m    483\u001b[0m     \u001b[39mself\u001b[39m\u001b[39m.\u001b[39merror(\u001b[39m\"\u001b[39m\u001b[39m[skipped by user]\u001b[39m\u001b[39m\"\u001b[39m, repeat_at_end\u001b[39m=\u001b[39m\u001b[39mFalse\u001b[39;00m)\n",
      "File \u001b[0;32m~/Library/Caches/pypoetry/virtualenvs/brazilian-favela-urop-AQHwoFdT-py3.11/lib/python3.11/site-packages/instaloader/instaloadercontext.py:480\u001b[0m, in \u001b[0;36mInstaloaderContext.get_json\u001b[0;34m(self, path, params, host, session, _attempt, response_headers, use_post)\u001b[0m\n\u001b[1;32m    478\u001b[0m         \u001b[39mif\u001b[39;00m is_other_query:\n\u001b[1;32m    479\u001b[0m             \u001b[39mself\u001b[39m\u001b[39m.\u001b[39m_rate_controller\u001b[39m.\u001b[39mhandle_429(\u001b[39m'\u001b[39m\u001b[39mother\u001b[39m\u001b[39m'\u001b[39m)\n\u001b[0;32m--> 480\u001b[0m     \u001b[39mreturn\u001b[39;00m \u001b[39mself\u001b[39;49m\u001b[39m.\u001b[39;49mget_json(path\u001b[39m=\u001b[39;49mpath, params\u001b[39m=\u001b[39;49mparams, host\u001b[39m=\u001b[39;49mhost, session\u001b[39m=\u001b[39;49msess, _attempt\u001b[39m=\u001b[39;49m_attempt \u001b[39m+\u001b[39;49m \u001b[39m1\u001b[39;49m,\n\u001b[1;32m    481\u001b[0m                          response_headers\u001b[39m=\u001b[39;49mresponse_headers)\n\u001b[1;32m    482\u001b[0m \u001b[39mexcept\u001b[39;00m \u001b[39mKeyboardInterrupt\u001b[39;00m:\n\u001b[1;32m    483\u001b[0m     \u001b[39mself\u001b[39m\u001b[39m.\u001b[39merror(\u001b[39m\"\u001b[39m\u001b[39m[skipped by user]\u001b[39m\u001b[39m\"\u001b[39m, repeat_at_end\u001b[39m=\u001b[39m\u001b[39mFalse\u001b[39;00m)\n",
      "File \u001b[0;32m~/Library/Caches/pypoetry/virtualenvs/brazilian-favela-urop-AQHwoFdT-py3.11/lib/python3.11/site-packages/instaloader/instaloadercontext.py:468\u001b[0m, in \u001b[0;36mInstaloaderContext.get_json\u001b[0;34m(self, path, params, host, session, _attempt, response_headers, use_post)\u001b[0m\n\u001b[1;32m    466\u001b[0m         \u001b[39mraise\u001b[39;00m QueryReturnedNotFoundException(error_string) \u001b[39mfrom\u001b[39;00m\u001b[39m \u001b[39m\u001b[39merr\u001b[39;00m\n\u001b[1;32m    467\u001b[0m     \u001b[39melse\u001b[39;00m:\n\u001b[0;32m--> 468\u001b[0m         \u001b[39mraise\u001b[39;00m ConnectionException(error_string) \u001b[39mfrom\u001b[39;00m\u001b[39m \u001b[39m\u001b[39merr\u001b[39;00m\n\u001b[1;32m    469\u001b[0m \u001b[39mself\u001b[39m\u001b[39m.\u001b[39merror(error_string \u001b[39m+\u001b[39m \u001b[39m\"\u001b[39m\u001b[39m [retrying; skip with ^C]\u001b[39m\u001b[39m\"\u001b[39m, repeat_at_end\u001b[39m=\u001b[39m\u001b[39mFalse\u001b[39;00m)\n\u001b[1;32m    470\u001b[0m \u001b[39mtry\u001b[39;00m:\n",
      "\u001b[0;31mConnectionException\u001b[0m: JSON Query to api/v1/tags/web_info/: 403 Forbidden - \"fail\" status, message \"login_required\" when accessing https://i.instagram.com/api/v1/tags/web_info/?__a=1&__d=dis&tag_name=deslizamento"
     ]
    }
   ],
   "source": [
    "import instaloader\n",
    "from datetime import datetime, timedelta\n",
    "import csv\n",
    "import time\n",
    "\n",
    "# 1️⃣ Initialize Instaloader\n",
    "L = instaloader.Instaloader()\n",
    "\n",
    "# 2️⃣ Load the saved session (no password needed)\n",
    "L.load_session_from_file(\"grogley_\")  # matches your session filename\n",
    "\n",
    "# 3️⃣ Set hashtag and date range\n",
    "HASHTAG = \"deslizamento\"\n",
    "END_DATE = datetime.now() - timedelta(days=365)\n",
    "START_DATE = END_DATE - timedelta(days=30)\n",
    "\n",
    "# 4️⃣ CSV to save results\n",
    "with open(\"brazil_landslides.csv\", \"w\", newline=\"\", encoding=\"utf-8\") as csvfile:\n",
    "    writer = csv.writer(csvfile)\n",
    "    writer.writerow([\"post_url\", \"username\", \"date\", \"caption\"])\n",
    "\n",
    "    # 5️⃣ Iterate over posts\n",
    "    for post in instaloader.Hashtag.from_name(L.context, HASHTAG).get_posts():\n",
    "        post_date = post.date_utc\n",
    "        if START_DATE <= post_date <= END_DATE:\n",
    "            writer.writerow([\n",
    "                f\"https://www.instagram.com/p/{post.shortcode}/\",\n",
    "                post.owner_username,\n",
    "                post_date.strftime(\"%Y-%m-%d\"),\n",
    "                post.caption\n",
    "            ])\n",
    "            time.sleep(2)  # small delay to avoid throttling\n",
    "        elif post_date < START_DATE:\n",
    "            break  # stop once posts are older than desired\n",
    "\n",
    "print(\"Scraping complete! Check brazil_landslides.csv\")\n"
   ]
  }
 ],
 "metadata": {
  "kernelspec": {
   "display_name": "Python 3.11.8 ('brazilian-favela-urop-AQHwoFdT-py3.11')",
   "language": "python",
   "name": "python3"
  },
  "language_info": {
   "codemirror_mode": {
    "name": "ipython",
    "version": 3
   },
   "file_extension": ".py",
   "mimetype": "text/x-python",
   "name": "python",
   "nbconvert_exporter": "python",
   "pygments_lexer": "ipython3",
   "version": "3.11.8"
  },
  "orig_nbformat": 4,
  "vscode": {
   "interpreter": {
    "hash": "24eaac1d74d6eef61291c51b2896758e70de1d7dcc43d2fab8692019e3715269"
   }
  }
 },
 "nbformat": 4,
 "nbformat_minor": 2
}
