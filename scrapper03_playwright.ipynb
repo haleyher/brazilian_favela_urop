{
 "cells": [
  {
   "cell_type": "code",
   "execution_count": 1,
   "metadata": {},
   "outputs": [],
   "source": [
    "import asyncio\n",
    "from playwright.async_api import async_playwright\n",
    "from typing import List, Dict\n",
    "import re\n",
    "\n",
    "SEARCH_URL = \"https://twitter.com/search?q={query}&f=live\"\n",
    "\n"
   ]
  },
  {
   "cell_type": "code",
   "execution_count": 3,
   "metadata": {},
   "outputs": [],
   "source": [
    "import asyncio\n",
    "from playwright.async_api import async_playwright\n",
    "from typing import List, Dict\n",
    "\n",
    "async def scrape_tweets(query: str, max_tweets: int = 10) -> List[Dict]:\n",
    "    tweets_data = []\n",
    "\n",
    "    async with async_playwright() as pw:\n",
    "        browser = await pw.chromium.launch(headless=False)  # set True when stable\n",
    "        context = await browser.new_context(viewport={\"width\": 1920, \"height\": 1080})\n",
    "        page = await context.new_page()\n",
    "\n",
    "        search_url = f\"https://twitter.com/search?q={query}&f=live\"\n",
    "        await page.goto(search_url)\n",
    "\n",
    "        tweets_collected = 0\n",
    "        scrolls = 0\n",
    "        max_scrolls = 30\n",
    "\n",
    "        # Wait for first tweet to appear\n",
    "        try:\n",
    "            await page.wait_for_selector('article[role=\"article\"]', timeout=15000)\n",
    "        except:\n",
    "            print(\"No tweets found\")\n",
    "            return tweets_data\n",
    "\n",
    "        while tweets_collected < max_tweets and scrolls < max_scrolls:\n",
    "            tweet_elements = await page.query_selector_all('article[role=\"article\"]')\n",
    "\n",
    "            for el in tweet_elements[tweets_collected:]:\n",
    "                try:\n",
    "                    # Get tweet text\n",
    "                    text_el = await el.query_selector('div[data-testid=\"tweetText\"]')\n",
    "                    text = await text_el.inner_text() if text_el else \"\"\n",
    "\n",
    "                    # Get author handle\n",
    "                    handle_el = await el.query_selector('div[data-testid=\"User-Names\"] span')\n",
    "                    author = await handle_el.inner_text() if handle_el else \"\"\n",
    "\n",
    "                    tweets_data.append({\"author\": author, \"text\": text})\n",
    "                    tweets_collected += 1\n",
    "                    if tweets_collected >= max_tweets:\n",
    "                        break\n",
    "                except Exception:\n",
    "                    continue\n",
    "\n",
    "            # Scroll to load more\n",
    "            await page.evaluate(\"window.scrollBy(0, document.body.scrollHeight)\")\n",
    "            await asyncio.sleep(2)\n",
    "            scrolls += 1\n",
    "\n",
    "        await browser.close()\n",
    "    return tweets_data"
   ]
  },
  {
   "cell_type": "code",
   "execution_count": 4,
   "metadata": {},
   "outputs": [],
   "source": [
    "def parse_tweet(data: Dict) -> Dict:\n",
    "    \"\"\"Parse raw tweet JSON into simplified dictionary.\"\"\"\n",
    "    result = jmespath.search(\n",
    "        \"\"\"{\n",
    "        created_at: legacy.created_at,\n",
    "        text: legacy.full_text,\n",
    "        user_id: legacy.user_id_str,\n",
    "        id: legacy.id_str\n",
    "    }\"\"\",\n",
    "        data\n",
    "    )\n",
    "    return result"
   ]
  },
  {
   "cell_type": "code",
   "execution_count": 5,
   "metadata": {},
   "outputs": [
    {
     "name": "stdout",
     "output_type": "stream",
     "text": [
      "No tweets found\n"
     ]
    }
   ],
   "source": [
    "tweets = await scrape_tweets(\"Brazilian favela\", max_tweets=10)\n",
    "for t in tweets:\n",
    "    print(t)"
   ]
  },
  {
   "cell_type": "code",
   "execution_count": 6,
   "metadata": {},
   "outputs": [
    {
     "ename": "NameError",
     "evalue": "name 'main' is not defined",
     "output_type": "error",
     "traceback": [
      "\u001b[0;31m---------------------------------------------------------------------------\u001b[0m",
      "\u001b[0;31mNameError\u001b[0m                                 Traceback (most recent call last)",
      "Cell \u001b[0;32mIn[6], line 1\u001b[0m\n\u001b[0;32m----> 1\u001b[0m \u001b[39mawait\u001b[39;00m main()\n",
      "\u001b[0;31mNameError\u001b[0m: name 'main' is not defined"
     ]
    }
   ],
   "source": [
    "await main()"
   ]
  }
 ],
 "metadata": {
  "kernelspec": {
   "display_name": "Python 3.11.8 ('brazilian-favela-urop-AQHwoFdT-py3.11')",
   "language": "python",
   "name": "python3"
  },
  "language_info": {
   "codemirror_mode": {
    "name": "ipython",
    "version": 3
   },
   "file_extension": ".py",
   "mimetype": "text/x-python",
   "name": "python",
   "nbconvert_exporter": "python",
   "pygments_lexer": "ipython3",
   "version": "3.11.8"
  },
  "orig_nbformat": 4,
  "vscode": {
   "interpreter": {
    "hash": "24eaac1d74d6eef61291c51b2896758e70de1d7dcc43d2fab8692019e3715269"
   }
  }
 },
 "nbformat": 4,
 "nbformat_minor": 2
}
